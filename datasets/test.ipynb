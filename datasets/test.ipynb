{
 "cells": [
  {
   "cell_type": "code",
   "execution_count": 13,
   "metadata": {},
   "outputs": [
    {
     "name": "stdout",
     "output_type": "stream",
     "text": [
      "DatetimeIndex(['2017-01-01 00:00:00', '2017-01-01 00:05:00',\n",
      "               '2017-01-01 00:10:00', '2017-01-01 00:15:00',\n",
      "               '2017-01-01 00:20:00', '2017-01-01 00:25:00',\n",
      "               '2017-01-01 00:30:00', '2017-01-01 00:35:00',\n",
      "               '2017-01-01 00:40:00', '2017-01-01 00:45:00',\n",
      "               ...\n",
      "               '2017-06-30 23:10:00', '2017-06-30 23:15:00',\n",
      "               '2017-06-30 23:20:00', '2017-06-30 23:25:00',\n",
      "               '2017-06-30 23:30:00', '2017-06-30 23:35:00',\n",
      "               '2017-06-30 23:40:00', '2017-06-30 23:45:00',\n",
      "               '2017-06-30 23:50:00', '2017-06-30 23:55:00'],\n",
      "              dtype='datetime64[ns]', length=52128, freq='5T')\n",
      "sensor_id            400001  400017  400030  400040  400045  400052  400057  \\\n",
      "2017-01-01 00:00:00    71.4    67.8    70.5    67.4    68.8    66.6    66.8   \n",
      "2017-01-01 00:05:00    71.6    67.5    70.6    67.5    68.7    66.6    66.8   \n",
      "2017-01-01 00:10:00    71.6    67.6    70.2    67.4    68.7    66.1    66.8   \n",
      "2017-01-01 00:15:00    71.1    67.5    70.3    68.0    68.5    66.7    66.6   \n",
      "2017-01-01 00:20:00    71.7    67.8    70.2    68.1    68.4    66.9    66.1   \n",
      "\n",
      "sensor_id            400059  400065  400069  ...  409525  409526  409528  \\\n",
      "2017-01-01 00:00:00    68.0    66.8    69.0  ...    68.8    67.9    68.8   \n",
      "2017-01-01 00:05:00    67.8    66.5    68.2  ...    68.4    67.3    68.4   \n",
      "2017-01-01 00:10:00    67.8    66.2    67.8  ...    68.4    67.4    68.4   \n",
      "2017-01-01 00:15:00    67.7    65.9    67.8  ...    68.5    67.5    68.5   \n",
      "2017-01-01 00:20:00    67.7    66.1    67.8  ...    68.5    67.7    68.5   \n",
      "\n",
      "sensor_id            409529  413026  413845  413877  413878  414284  414694  \n",
      "2017-01-01 00:00:00    68.0    69.2    68.9    70.4    68.8    71.1    68.0  \n",
      "2017-01-01 00:05:00    67.6    70.4    68.8    70.1    68.4    70.8    67.4  \n",
      "2017-01-01 00:10:00    67.5    70.2    68.3    69.8    68.4    70.5    67.9  \n",
      "2017-01-01 00:15:00    67.5    70.4    68.7    70.2    68.4    70.8    67.6  \n",
      "2017-01-01 00:20:00    67.4    69.6    69.1    70.0    68.4    71.0    67.9  \n",
      "\n",
      "[5 rows x 325 columns]\n"
     ]
    }
   ],
   "source": [
    "import pandas as pd \n",
    "import numpy as np\n",
    "\n",
    "df = pd.read_hdf('pems_bay/pems_bay.h5')\n",
    "#print(df.head())\n",
    "\n",
    "datetime_idx = sorted(df.index)\n",
    "\n",
    "date_range = pd.date_range(datetime_idx[0], datetime_idx[-1], freq='5T')\n",
    "print(date_range)\n",
    "df = df.reindex(index=date_range)\n",
    "print(df.head())\n",
    "mask = ~np.isnan(df.values)\n",
    "df.fillna(method='ffill', axis=0, inplace=True)\n",
    "#dist = self.load_distance_matrix(list(df.columns))\n",
    "\n",
    "\n",
    "df1 = pd.read_csv('discharge/SSC_discharge.csv')\n",
    "#print(df1.head())"
   ]
  }
 ],
 "metadata": {
  "kernelspec": {
   "display_name": "pytorch-gpu",
   "language": "python",
   "name": "python3"
  },
  "language_info": {
   "codemirror_mode": {
    "name": "ipython",
    "version": 3
   },
   "file_extension": ".py",
   "mimetype": "text/x-python",
   "name": "python",
   "nbconvert_exporter": "python",
   "pygments_lexer": "ipython3",
   "version": "3.8.13"
  },
  "orig_nbformat": 4
 },
 "nbformat": 4,
 "nbformat_minor": 2
}
